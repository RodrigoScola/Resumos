{
 "cells": [
  {
   "cell_type": "code",
   "execution_count": 8,
   "metadata": {},
   "outputs": [
    {
     "name": "stdout",
     "output_type": "stream",
     "text": [
      "          word             id            len\n",
      "count   117282  117312.000000  117312.000000\n",
      "unique   22401            NaN            NaN\n",
      "top        the            NaN            NaN\n",
      "freq      6137            NaN            NaN\n",
      "mean       NaN   58655.500000       5.398143\n",
      "std        NaN   33865.201727       5.587016\n",
      "min        NaN       0.000000       1.000000\n",
      "25%        NaN   29327.750000       2.000000\n",
      "50%        NaN   58655.500000       4.000000\n",
      "75%        NaN   87983.250000       7.000000\n",
      "max        NaN  117311.000000     181.000000\n"
     ]
    }
   ],
   "source": []
  },
  {
   "cell_type": "code",
   "execution_count": null,
   "metadata": {},
   "outputs": [],
   "source": []
  }
 ],
 "metadata": {
  "kernelspec": {
   "display_name": "Python 3.9.6 64-bit",
   "language": "python",
   "name": "python3"
  },
  "language_info": {
   "codemirror_mode": {
    "name": "ipython",
    "version": 3
   },
   "file_extension": ".py",
   "mimetype": "text/x-python",
   "name": "python",
   "nbconvert_exporter": "python",
   "pygments_lexer": "ipython3",
   "version": "3.9.6"
  },
  "orig_nbformat": 4,
  "vscode": {
   "interpreter": {
    "hash": "5fe6e67e19473f6a919c8fc11057969c45a98e5c6fdb373478d51fc92ee7a94b"
   }
  }
 },
 "nbformat": 4,
 "nbformat_minor": 2
}
